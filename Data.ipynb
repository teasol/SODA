{
 "cells": [
  {
   "cell_type": "code",
   "execution_count": 1,
   "metadata": {},
   "outputs": [],
   "source": [
    "from tqdm import tqdm\n",
    "from scipy import io\n",
    "from scipy import sparse\n",
    "import scipy\n",
    "import gzip\n",
    "import scanpy\n",
    "\n",
    "import torch\n",
    "import torch.nn as nn\n",
    "import torch.optim as optim\n",
    "import torch.nn.functional as F\n",
    "\n",
    "from torch.utils.data import DataLoader, Dataset\n",
    "from torch.distributions.beta import Beta\n",
    "\n",
    "import matplotlib.pyplot as plt\n",
    "import seaborn as sns\n",
    "import numpy as np\n",
    "import pandas as pd\n",
    "import os\n",
    "import pickle"
   ]
  },
  {
   "cell_type": "code",
   "execution_count": 2,
   "metadata": {},
   "outputs": [
    {
     "name": "stderr",
     "output_type": "stream",
     "text": [
      "OMP: Info #276: omp_set_nested routine deprecated, please use omp_set_max_active_levels instead.\n",
      "/data/home/kimds/anaconda3/envs/TORCH/lib/python3.8/site-packages/anndata/_core/anndata.py:1828: UserWarning: Observation names are not unique. To make them unique, call `.obs_names_make_unique`.\n",
      "  utils.warn_names_duplicates(\"obs\")\n",
      "/data/home/kimds/anaconda3/envs/TORCH/lib/python3.8/site-packages/anndata/_core/anndata.py:1830: UserWarning: Variable names are not unique. To make them unique, call `.var_names_make_unique`.\n",
      "  utils.warn_names_duplicates(\"var\")\n",
      "/data/home/kimds/anaconda3/envs/TORCH/lib/python3.8/site-packages/anndata/_core/anndata.py:1828: UserWarning: Observation names are not unique. To make them unique, call `.obs_names_make_unique`.\n",
      "  utils.warn_names_duplicates(\"obs\")\n",
      "/data/home/kimds/anaconda3/envs/TORCH/lib/python3.8/site-packages/anndata/_core/anndata.py:1830: UserWarning: Variable names are not unique. To make them unique, call `.var_names_make_unique`.\n",
      "  utils.warn_names_duplicates(\"var\")\n"
     ]
    }
   ],
   "source": [
    "# 0 A Census of Immune Cells\n",
    "# ~ 71 min\n",
    "DIR_PATH = \"/data/home/kimds/Data/A Census of Immune Cells\"\n",
    "census_blood = scanpy.read_loom(DIR_PATH + \"/1M-immune-human-blood-10XV2.loom\")\n",
    "census_immune = scanpy.read_loom(DIR_PATH + \"/1M-immune-human-immune-10XV2.loom\")\n",
    "census_of_immune_cells_genes = pd.read_csv(DIR_PATH+'/genes.csv')\n",
    "\n",
    "census_blood.obs_names_make_unique()\n",
    "census_blood.var_names_make_unique()\n",
    "census_immune.obs_names_make_unique()\n",
    "census_immune.var_names_make_unique()\n",
    "\n",
    "census_raw = sparse.vstack([census_blood.X, census_immune.X]).T"
   ]
  },
  {
   "cell_type": "code",
   "execution_count": 9,
   "metadata": {},
   "outputs": [],
   "source": [
    "# 3 Heart Cell Atlas\n",
    "# ~ 1 min\n",
    "DIR_PATH = '/data/home/kimds/Data/Heart Cell Atlas'\n",
    "heart_raw = io.mmread(DIR_PATH+'/'+'sparse_mtx.mtx')\n",
    "heart_genes = pd.read_csv(DIR_PATH+'/genes.csv')"
   ]
  },
  {
   "cell_type": "code",
   "execution_count": 4,
   "metadata": {},
   "outputs": [],
   "source": [
    "# 4 Immune Cell Atlas\n",
    "# ~ 16 min\n",
    "DIR_PATH = '/data/home/kimds/Data/Immune Cell Atlas'\n",
    "immune_raw = io.mmread(DIR_PATH+'/'+'sparse_mtx.mtx')\n",
    "immune_genes = pd.read_csv(DIR_PATH+'/genes.csv')"
   ]
  },
  {
   "cell_type": "code",
   "execution_count": 5,
   "metadata": {},
   "outputs": [],
   "source": [
    "# 5 Immune Cells in Critical COVID19\n",
    "# ~ 60 min\n",
    "DIR_PATH = '/data/home/kimds/Data/Immune Cells in Critical COVID19'\n",
    "FILE_PATH = '/data/home/kimds/Data/Immune Cells in Critical COVID19/GSE158055_covid19_counts.mtx.gz'\n",
    "covid_raw = io.mmread(FILE_PATH)\n",
    "covid_features = pd.read_csv(DIR_PATH+'/GSE158055_covid19_features.tsv.gz', sep='\\t', compression='gzip', header=None)\n"
   ]
  },
  {
   "cell_type": "code",
   "execution_count": 101,
   "metadata": {},
   "outputs": [],
   "source": [
    "census_genes = census_blood.var.index"
   ]
  },
  {
   "cell_type": "code",
   "execution_count": 5,
   "metadata": {},
   "outputs": [],
   "source": [
    "DIR_PATH = '/data/home/kimds/Data/Heart Cell Atlas'\n",
    "heart_genes = pd.read_csv(DIR_PATH+'/genes.csv')\n",
    "heart_genes = heart_genes.iloc[:, 0]"
   ]
  },
  {
   "cell_type": "code",
   "execution_count": 6,
   "metadata": {},
   "outputs": [],
   "source": [
    "DIR_PATH = '/data/home/kimds/Data/Immune Cell Atlas'\n",
    "immune_genes = pd.read_csv(DIR_PATH+'/genes.csv')\n",
    "immune_genes = immune_genes.iloc[:, 0]"
   ]
  },
  {
   "cell_type": "code",
   "execution_count": 7,
   "metadata": {},
   "outputs": [],
   "source": [
    "DIR_PATH = '/data/home/kimds/Data/Immune Cells in Critical COVID19'\n",
    "covid_features = pd.read_csv(DIR_PATH+'/GSE158055_covid19_features.tsv.gz', sep='\\t', compression='gzip', header=None)\n",
    "covid_genes = covid_features.iloc[:, 0]"
   ]
  },
  {
   "cell_type": "code",
   "execution_count": 102,
   "metadata": {},
   "outputs": [],
   "source": [
    "temp = census_genes\n",
    "temp = temp[temp.isin(heart_genes)]\n",
    "temp = temp[temp.isin(immune_genes)]\n",
    "temp = temp[temp.isin(covid_genes)]\n",
    "census_indices = census_genes.isin(temp)\n",
    "heart_indices = heart_genes.isin(temp)\n",
    "immune_indices = immune_genes.isin(temp)\n",
    "covid_indices = covid_genes.isin(temp)"
   ]
  },
  {
   "cell_type": "code",
   "execution_count": 105,
   "metadata": {},
   "outputs": [],
   "source": [
    "census = census_raw.tocsc()[census_indices, :]\n",
    "heart = heart_raw.tocsc()[heart_indices, :]\n",
    "immune = immune_raw.tocsc()[immune_indices, :]\n",
    "covid = covid_raw.tocsc()[covid_indices, :]\n"
   ]
  },
  {
   "cell_type": "code",
   "execution_count": 106,
   "metadata": {},
   "outputs": [],
   "source": [
    "data = sparse.hstack([census, heart, immune, covid])"
   ]
  }
 ],
 "metadata": {
  "kernelspec": {
   "display_name": "Python 3.8.13 ('TORCH': conda)",
   "language": "python",
   "name": "python3"
  },
  "language_info": {
   "codemirror_mode": {
    "name": "ipython",
    "version": 3
   },
   "file_extension": ".py",
   "mimetype": "text/x-python",
   "name": "python",
   "nbconvert_exporter": "python",
   "pygments_lexer": "ipython3",
   "version": "3.8.13"
  },
  "orig_nbformat": 4,
  "vscode": {
   "interpreter": {
    "hash": "09d12e7c042276a4aee0aba75551736f84218c16c7b0909dd9737c86aed213d9"
   }
  }
 },
 "nbformat": 4,
 "nbformat_minor": 2
}
